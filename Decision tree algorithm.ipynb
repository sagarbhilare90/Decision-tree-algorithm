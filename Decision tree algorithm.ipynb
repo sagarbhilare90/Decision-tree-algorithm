{
 "cells": [
  {
   "cell_type": "code",
   "execution_count": 2,
   "metadata": {},
   "outputs": [],
   "source": [
    "import pandas as pd # imports pandas for data structure support\n",
    "from sklearn import datasets # imports built in data sets supported in scikit learn \n",
    "from sklearn import tree   # imports Decision tree classifier\n",
    "from sklearn import metrics # imports performance metrices\n",
    "from sklearn.model_selection import train_test_split # using scikit learn for hold-out"
   ]
  },
  {
   "cell_type": "code",
   "execution_count": 7,
   "metadata": {},
   "outputs": [],
   "source": [
    "#Loading data set\n",
    "\n",
    "dataset_iris = datasets.load_iris()"
   ]
  },
  {
   "cell_type": "code",
   "execution_count": 8,
   "metadata": {},
   "outputs": [],
   "source": [
    "# Creating hold-out enviornment\n",
    "iris_data_train, iris_data_test, iris_target_train, iris_target_test = train_test_split(dataset_iris.data, dataset_iris.target, test_size=0.3)"
   ]
  },
  {
   "cell_type": "code",
   "execution_count": 9,
   "metadata": {},
   "outputs": [],
   "source": [
    "#Create a Decision tree Classifier\n",
    "DTmodel_1 = tree.DecisionTreeClassifier() \n",
    "\n",
    "#Train the model using the training sets\n",
    "DTfitted_1 = DTmodel_1.fit(iris_data_train, iris_target_train)"
   ]
  },
  {
   "cell_type": "code",
   "execution_count": 10,
   "metadata": {},
   "outputs": [],
   "source": [
    "#Predict the response on the test data set\n",
    "\n",
    "DT_predictions_1 = DTfitted_1.predict((iris_data_test))"
   ]
  },
  {
   "cell_type": "code",
   "execution_count": 78,
   "metadata": {},
   "outputs": [
    {
     "name": "stdout",
     "output_type": "stream",
     "text": [
      "Accuracy: 91.0 %\n",
      "---------------\n",
      "Confusion matrix\n",
      "---------------\n",
      "[[ 9  0  0]\n",
      " [ 0 13  2]\n",
      " [ 0  2 19]]\n",
      "---------------\n",
      "Classification report               precision    recall  f1-score   support\n",
      "\n",
      "     class 0       1.00      1.00      1.00         9\n",
      "     class 1       0.87      0.87      0.87        15\n",
      "     class 2       0.90      0.90      0.90        21\n",
      "\n",
      "   micro avg       0.91      0.91      0.91        45\n",
      "   macro avg       0.92      0.92      0.92        45\n",
      "weighted avg       0.91      0.91      0.91        45\n",
      "\n"
     ]
    }
   ],
   "source": [
    "print(\"Accuracy:\",round(metrics.accuracy_score(iris_target_test, DT_predictions_1),2) * 100, \"%\")\n",
    "\n",
    "print (\"---------------\")\n",
    "\n",
    "# Printing confusion matrix\n",
    "\n",
    "print (\"Confusion matrix\")\n",
    "\n",
    "print (\"---------------\")\n",
    "\n",
    "print(metrics.confusion_matrix(iris_target_test, DT_predictions_1))\n",
    "\n",
    "# Model detailed classification report\n",
    "target_names = ['class 0', 'class 1', 'class 2']\n",
    "\n",
    "\n",
    "print (\"---------------\")\n",
    "\n",
    "print(\"Classification report\", metrics.classification_report(iris_target_test, DT_predictions_1,target_names =target_names))"
   ]
  },
  {
   "cell_type": "code",
   "execution_count": null,
   "metadata": {},
   "outputs": [],
   "source": [
    "#Visualize Decision Tree model\n",
    "# importing libraries\n",
    "\n",
    "from IPython.display import Image  \n",
    "import pydotplus\n",
    "\n",
    "# Create DOT data. The first argument in tree.export_graphviz is the model name, out_file is used to write \n",
    "# model into out_file, next parameters are information on indicator and predictive parameters \n",
    "\n",
    "dot_data = tree.export_graphviz(DTmodel_1, out_file=None, feature_names=dataset_iris.feature_names, class_names=dataset_iris.target_names)\n",
    "\n",
    "# Draw graph\n",
    "\n",
    "graph = pydotplus.graph_from_dot_data(dot_data)  \n",
    "\n",
    "# Show graph\n",
    "Image(graph.create_png())"
   ]
  }
 ],
 "metadata": {
  "kernelspec": {
   "display_name": "Python 3",
   "language": "python",
   "name": "python3"
  },
  "language_info": {
   "codemirror_mode": {
    "name": "ipython",
    "version": 3
   },
   "file_extension": ".py",
   "mimetype": "text/x-python",
   "name": "python",
   "nbconvert_exporter": "python",
   "pygments_lexer": "ipython3",
   "version": "3.7.3"
  }
 },
 "nbformat": 4,
 "nbformat_minor": 2
}
